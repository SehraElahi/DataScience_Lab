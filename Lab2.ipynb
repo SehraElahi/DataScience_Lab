{
 "cells": [
  {
   "cell_type": "markdown",
   "metadata": {
    "id": "bp_eIGbchpds"
   },
   "source": [
    "<h1><center> Part I: Pandas </center></h1>\n",
    "\n",
    "In the previous Lab we used **NumPy** and we observed that this library (in particular the *ndarray* data structure) provides essential features to deal with well-organized data, typically seen in numerical tasks. Often, however, in data science projects we need the flexibility to work with labeled data (beyond the integer indexes of *ndarrays*) and to deal with missing data. Also, NumPy offers powerful tools based on element-wise broadcasting, but we will need to perform more general operations (e.g., groupings). **Pandas**, and in particular its *Series* and *DataFrame* objects, builds on the NumPy array structure and provides efficient tools to deal with labeled, unstructured and non-numerical data.\n",
    "\n",
    "Pandas is well suited for many different kinds of data:\n",
    "\n",
    "- Tabular data with heterogeneously-typed columns, as in an SQL table or Excel spreadsheets\n",
    "- Ordered and unordered time series data.\n",
    "- Arbitrary matrix data (homogeneously typed or heterogeneous) with row and column labels\n",
    "- Any other form of observational / statistical data sets. The data actually need not be labeled at all to be placed into a pandas data structure\n",
    "\n",
    "The two primary data structures of pandas are Series (1-dimensional) and DataFrame (multi-dimensional). They handle the vast majority of typical use cases in finance, statistics, social science, and many areas of engineering."
   ]
  },
  {
   "cell_type": "markdown",
   "metadata": {
    "id": "-kDKgrichpds"
   },
   "source": [
    "<h2><center> Series </center></h2>\n",
    "\n",
    "The *Series* object provided by Pandas can be seen as a generalization of the NumPy ndarray. \n",
    "While in *ndarrays* the indexes are allways consecutive integers, in Series indexes can consist of values of any desired type. *Series* can also be seen as particular Python dictionary with keys that you can iterate."
   ]
  },
  {
   "cell_type": "code",
   "execution_count": 3,
   "metadata": {
    "id": "5VtJXwlohpdt"
   },
   "outputs": [
    {
     "data": {
      "text/html": [
       "<div>\n",
       "<style scoped>\n",
       "    .dataframe tbody tr th:only-of-type {\n",
       "        vertical-align: middle;\n",
       "    }\n",
       "\n",
       "    .dataframe tbody tr th {\n",
       "        vertical-align: top;\n",
       "    }\n",
       "\n",
       "    .dataframe thead th {\n",
       "        text-align: right;\n",
       "    }\n",
       "</style>\n",
       "<table border=\"1\" class=\"dataframe\">\n",
       "  <thead>\n",
       "    <tr style=\"text-align: right;\">\n",
       "      <th></th>\n",
       "      <th>one</th>\n",
       "      <th>two</th>\n",
       "    </tr>\n",
       "  </thead>\n",
       "  <tbody>\n",
       "    <tr>\n",
       "      <th>0</th>\n",
       "      <td>a</td>\n",
       "      <td>d</td>\n",
       "    </tr>\n",
       "    <tr>\n",
       "      <th>1</th>\n",
       "      <td>b</td>\n",
       "      <td>e</td>\n",
       "    </tr>\n",
       "    <tr>\n",
       "      <th>2</th>\n",
       "      <td>c</td>\n",
       "      <td>f</td>\n",
       "    </tr>\n",
       "  </tbody>\n",
       "</table>\n",
       "</div>"
      ],
      "text/plain": [
       "  one two\n",
       "0   a   d\n",
       "1   b   e\n",
       "2   c   f"
      ]
     },
     "execution_count": 3,
     "metadata": {},
     "output_type": "execute_result"
    }
   ],
   "source": [
    "import numpy as np\n",
    "import pandas as pd\n",
    "\n",
    "# integer_numpy_array = np.arange(20,25)\n",
    "# pandas_series = pd.Series(integer_numpy_array)\n",
    "\n",
    "# initialize list of lists\n",
    "data = [['a','d'], ['b', 'e'], ['c', 'f']]\n",
    " \n",
    "# Create the pandas DataFrame\n",
    "df = pd.DataFrame(data, columns = ['one', 'two'])\n",
    "df\n",
    " \n",
    "# print dataframe.\n",
    "# df\n",
    "# df.iloc[2,1]"
   ]
  },
  {
   "cell_type": "code",
   "execution_count": 5,
   "metadata": {
    "id": "npLxBEvOhpdt",
    "outputId": "433154f3-aadb-414f-903c-5a8f6edf998a"
   },
   "outputs": [
    {
     "ename": "NameError",
     "evalue": "name 'pandas_series' is not defined",
     "output_type": "error",
     "traceback": [
      "\u001b[0;31m---------------------------------------------------------------------------\u001b[0m",
      "\u001b[0;31mNameError\u001b[0m                                 Traceback (most recent call last)",
      "\u001b[0;32m/var/folders/56/8dcvrys975sfxb2dq6s3phnc0000gn/T/ipykernel_49040/546220045.py\u001b[0m in \u001b[0;36m<module>\u001b[0;34m\u001b[0m\n\u001b[0;32m----> 1\u001b[0;31m \u001b[0mpandas_series\u001b[0m\u001b[0;34m.\u001b[0m\u001b[0mvalues\u001b[0m\u001b[0;34m\u001b[0m\u001b[0;34m\u001b[0m\u001b[0m\n\u001b[0m",
      "\u001b[0;31mNameError\u001b[0m: name 'pandas_series' is not defined"
     ]
    }
   ],
   "source": [
    "pandas_series.values"
   ]
  },
  {
   "cell_type": "code",
   "execution_count": 1,
   "metadata": {
    "id": "XQ9IRdCmhpdu",
    "outputId": "59731f0b-ad32-4502-8604-12857124a4de"
   },
   "outputs": [
    {
     "ename": "NameError",
     "evalue": "name 'pandas_series' is not defined",
     "output_type": "error",
     "traceback": [
      "\u001b[0;31m---------------------------------------------------------------------------\u001b[0m",
      "\u001b[0;31mNameError\u001b[0m                                 Traceback (most recent call last)",
      "\u001b[0;32m/var/folders/56/8dcvrys975sfxb2dq6s3phnc0000gn/T/ipykernel_49040/3645355099.py\u001b[0m in \u001b[0;36m<module>\u001b[0;34m\u001b[0m\n\u001b[0;32m----> 1\u001b[0;31m \u001b[0mpandas_series\u001b[0m\u001b[0;34m.\u001b[0m\u001b[0mindex\u001b[0m\u001b[0;34m\u001b[0m\u001b[0;34m\u001b[0m\u001b[0m\n\u001b[0m",
      "\u001b[0;31mNameError\u001b[0m: name 'pandas_series' is not defined"
     ]
    }
   ],
   "source": [
    "pandas_series.index"
   ]
  },
  {
   "cell_type": "code",
   "execution_count": null,
   "metadata": {
    "id": "XQjpT5WVhpdv",
    "outputId": "99d22819-46e2-4918-b3be-258a111a467f"
   },
   "outputs": [],
   "source": [
    "pandas_series[0]"
   ]
  },
  {
   "cell_type": "code",
   "execution_count": null,
   "metadata": {
    "id": "L_-8xJb-hpdv",
    "outputId": "e50b15b5-9c85-4d83-f596-6832309d9fb2"
   },
   "outputs": [],
   "source": [
    "pandas_series[2:4]"
   ]
  },
  {
   "cell_type": "code",
   "execution_count": null,
   "metadata": {
    "id": "ban7GHzhhpdw",
    "outputId": "77409665-1ce4-41c6-f295-a7a671f4f18f"
   },
   "outputs": [],
   "source": [
    "# Series as a generalized NumPy array, where indexes can be any list\n",
    "\n",
    "data = pd.Series([0.25, 0.5, 0.75, 1.0], index=[20, 40, 80, 160])\n",
    "\n",
    "data[160]"
   ]
  },
  {
   "cell_type": "code",
   "execution_count": null,
   "metadata": {
    "id": "vA8sehUJhpdw",
    "outputId": "50a9408e-8ad2-4dbb-f65b-cd66d25d519f"
   },
   "outputs": [],
   "source": [
    "# Series as a specific Python dictionary, where indexes are dictionary keys that you can iterate\n",
    "\n",
    "population_dict = {'California': 38332521,\n",
    "                   'Texas': 26448193,\n",
    "                   'New York': 19651127,\n",
    "                   'Florida': 19552860,\n",
    "                   'Illinois': 12882135}\n",
    "\n",
    "population = pd.Series(population_dict)\n",
    "population['New York']"
   ]
  },
  {
   "cell_type": "code",
   "execution_count": null,
   "metadata": {
    "id": "m0sBjB38hpdx",
    "outputId": "1bc90604-4435-4b24-a414-1714011f2a81"
   },
   "outputs": [],
   "source": [
    "x = population['Texas':'Florida']\n",
    "x"
   ]
  },
  {
   "cell_type": "markdown",
   "metadata": {
    "id": "L3wNNTP0hpdy"
   },
   "source": [
    "**Q1: Can you create a Series where indexes are the odd numbers from 0 to 10 and values are the square of such numbers**\n",
    "\n",
    "Expected output:\n",
    "\n",
    "    1     1\n",
    "    3     9\n",
    "    5    25\n",
    "    7    49\n",
    "    9    81\n",
    "    dtype: int64"
   ]
  },
  {
   "cell_type": "code",
   "execution_count": null,
   "metadata": {
    "id": "gevXe1zAhpdy",
    "outputId": "ea3ea3b5-9e7d-4371-b79a-444ca86636ab"
   },
   "outputs": [],
   "source": [
    "import numpy as np\n",
    "import pandas as pd\n",
    "\n",
    "a=np.array([1,2,3,4,5,6,7,8,9,10])\n",
    "power = 2\n",
    "index = (a[a%2==1])\n",
    "answer = (a[a%2==1])**power\n",
    "\n",
    "res = \"\\n\".join(\"{} {}\".format(x, y) for x, y in zip(index, answer))\n",
    "print(res)\n",
    "    "
   ]
  },
  {
   "cell_type": "markdown",
   "metadata": {
    "id": "FJ8eDByRhpdy"
   },
   "source": [
    "<h2><center> DataFrame </center></h2>\n",
    "\n",
    "The *DataFrame* object provided by Pandas can be seen as a generalization of the 2-dimensional NumPy ndarray. \n",
    "The *DataFrame* can, alternativelly, be seen as a sequence of *Series* objects, all sharing the same indexes. We will see that *DataFrame* is a convinient data structure to store data and, additionally, offers useful methods to filter, transform, group and plot data."
   ]
  },
  {
   "cell_type": "code",
   "execution_count": null,
   "metadata": {
    "id": "fSs26bV5hpdz",
    "outputId": "59d2a523-1d6c-420c-d4c6-5a379ba60636"
   },
   "outputs": [],
   "source": [
    "population_dict = {'California': 38332521,\n",
    "                   'Texas': 26448193,\n",
    "                   'New York': 19651127,\n",
    "                   'Florida': 19552860,\n",
    "                   'Illinois': 12882135}\n",
    "\n",
    "area_dict = {'California': 423967, \n",
    "             'Texas': 695662, \n",
    "             'New York': 141297,\n",
    "             'Florida': 170312, \n",
    "             'Illinois': 149995}\n",
    "\n",
    "\n",
    "states = pd.DataFrame({'pop' : population_dict, 'area' : area_dict})\n",
    "\n",
    "states"
   ]
  },
  {
   "cell_type": "code",
   "execution_count": null,
   "metadata": {
    "id": "V9AyiYc8hpdz",
    "outputId": "1732d7f2-8d64-4d19-a6f9-52a2e1b6615c"
   },
   "outputs": [],
   "source": [
    "# indexing (dictionary style)\n",
    "\n",
    "states['area']"
   ]
  },
  {
   "cell_type": "code",
   "execution_count": null,
   "metadata": {
    "id": "qB4ErmMyhpdz",
    "outputId": "e47464be-3966-4041-f08c-ac2ad1e22c7a"
   },
   "outputs": [],
   "source": [
    "# indexing\n",
    "# notice that first we access columns and then rows..\n",
    "\n",
    "states['area']['Florida']"
   ]
  },
  {
   "cell_type": "code",
   "execution_count": null,
   "metadata": {
    "id": "iC4QMA1Fhpd0",
    "outputId": "dcf17bb4-a3d8-4648-c024-7ee70317632a"
   },
   "outputs": [],
   "source": [
    "# indexing through NumPy ndarray of values: Florida=3, area=1\n",
    "# notice that first we access rows and then columns..\n",
    "\n",
    "states.values[3][1] # you can also check states.values[3,1]"
   ]
  },
  {
   "cell_type": "code",
   "execution_count": null,
   "metadata": {
    "id": "sDPHsXarhpd0",
    "outputId": "f16eb6f5-1d79-41cc-e121-1b7bf7f520b6"
   },
   "outputs": [],
   "source": [
    "# slicing\n",
    "states['area']['Texas':'Florida']"
   ]
  },
  {
   "cell_type": "code",
   "execution_count": null,
   "metadata": {
    "id": "-ozbtZk1hpd0",
    "outputId": "7328e0ff-ab6c-4f19-f521-760d93e6fb96"
   },
   "outputs": [],
   "source": [
    "# by default, slicing iterates over rows and the stop element in the slice is included\n",
    "\n",
    "states['Texas':'Florida']"
   ]
  },
  {
   "cell_type": "code",
   "execution_count": null,
   "metadata": {
    "id": "7mCzv72Jhpd0",
    "outputId": "8df9f694-290e-4b8a-ed19-572b13c42142"
   },
   "outputs": [],
   "source": [
    "# fancy indexing\n",
    "states['area'][[1,3,0]]"
   ]
  },
  {
   "cell_type": "code",
   "execution_count": null,
   "metadata": {
    "id": "iaNqvipghpd1",
    "outputId": "250bf165-9efb-4ead-e72b-64a56b1a09ac"
   },
   "outputs": [],
   "source": [
    "# masking\n",
    "states['area'][states['area'] > 180000]"
   ]
  },
  {
   "cell_type": "code",
   "execution_count": null,
   "metadata": {
    "id": "WvGuq9hyhpd1",
    "outputId": "03184e21-b4b6-45c2-9667-9a3a4f43e1ce"
   },
   "outputs": [],
   "source": [
    "# add new column\n",
    "# states['density'] = states['pop'] / states['area']\n",
    "# states['pop'] / states['area']\n",
    "# states['pop']\n",
    "# states['Texas' : 'New York']\n",
    "# states['pop']>90\n",
    "# states[states['area']>400000]\n",
    "# states.iloc['area' > 90]\n",
    "states.iloc[1][2]"
   ]
  },
  {
   "cell_type": "markdown",
   "metadata": {
    "id": "WTKgEn8Fhpd1"
   },
   "source": [
    "As accessing elements by dictionary-style, array-explicit-style or array-implicit-style can be confusing, there are specific methods you can use to decide the type of indexing:\n",
    "\n",
    "\n",
    "- .loc -> array-style indexing, explicit indexing using labels\n",
    "- .iloc -> array-style indexing, implicit indexing using positions\n",
    "\n",
    "**In the next examples: three ways of accessing the area of Florida... can you understand the differences?**"
   ]
  },
  {
   "cell_type": "code",
   "execution_count": null,
   "metadata": {
    "id": "7T46mVJyhpd1",
    "outputId": "8e4827c9-bffb-47f5-bc8f-f24c56544160"
   },
   "outputs": [],
   "source": [
    "states.loc['Florida','area']"
   ]
  },
  {
   "cell_type": "code",
   "execution_count": null,
   "metadata": {
    "id": "SOgiLpUHhpd2",
    "outputId": "76f671ba-4dec-4ced-c9b5-9e8f75fb6c2d"
   },
   "outputs": [],
   "source": [
    "states.iloc[3,1]"
   ]
  },
  {
   "cell_type": "code",
   "execution_count": null,
   "metadata": {
    "id": "h4wRoWc5hpd2",
    "outputId": "ca4182bc-c01e-4610-f31c-9b818f4f7c98"
   },
   "outputs": [],
   "source": [
    "states['area']['Florida']"
   ]
  },
  {
   "cell_type": "markdown",
   "metadata": {
    "id": "LueD9HQ_hpd2"
   },
   "source": [
    "**Q2: Can you calculate the difference in population size between Texas and New York? Try to answer using the 3 different types of DataFrame indexing introduced above.**\n",
    "\n",
    "Expected result in any of the possibilities: 6797066"
   ]
  },
  {
   "cell_type": "code",
   "execution_count": null,
   "metadata": {
    "id": "o_SHXD_Ohpd2",
    "outputId": "90e9bd6f-f0e4-44bc-a907-9471b4ba01ad"
   },
   "outputs": [],
   "source": [
    "states.loc['Texas','pop']-states.loc['New York','pop']"
   ]
  },
  {
   "cell_type": "markdown",
   "metadata": {
    "id": "ImjOsLKmhpd3"
   },
   "source": [
    "loc and iloc are also convinient to desambiguate indexing when Indexes are integers:"
   ]
  },
  {
   "cell_type": "code",
   "execution_count": null,
   "metadata": {
    "id": "ovTjIvK4hpd3",
    "outputId": "3ae0261b-3e38-41a2-9f07-3e56d762d790"
   },
   "outputs": [],
   "source": [
    "data = pd.Series(['d', 'c', 'b', 'a'], index=[3, 2, 1, 0])\n",
    "\n",
    "data[0] # will the output be 'a' or 'd'?"
   ]
  },
  {
   "cell_type": "code",
   "execution_count": null,
   "metadata": {
    "id": "skTgjCDnhpd3",
    "outputId": "3ea824e3-860e-4b7f-a80b-c166af479108"
   },
   "outputs": [],
   "source": [
    "data[1:3] #-> -> implicit indexing used; the stop element in the slice is not included"
   ]
  },
  {
   "cell_type": "code",
   "execution_count": null,
   "metadata": {
    "id": "7G-pu5XChpd3",
    "outputId": "3b88c8c2-01d6-47f2-bfb9-bd6812d8c6bb"
   },
   "outputs": [],
   "source": [
    "data.iloc[0]"
   ]
  },
  {
   "cell_type": "code",
   "execution_count": null,
   "metadata": {
    "id": "Vo10S7nshpd3",
    "outputId": "a8088919-07d7-4e9e-b760-e155548acfc7"
   },
   "outputs": [],
   "source": [
    "data.loc[0]"
   ]
  },
  {
   "cell_type": "code",
   "execution_count": null,
   "metadata": {
    "id": "Jxpyub4nhpd4"
   },
   "outputs": [],
   "source": [
    "population_dict = {'California': 38332521,\n",
    "                   'Texas': 26448193,\n",
    "                   'New York': 19651127,\n",
    "                   'Florida': 19552860,\n",
    "                   'Illinois': 12882135}\n",
    "\n",
    "area_dict = {'California': 423967, \n",
    "             'Texas': 695662, \n",
    "             'New York': 141297,\n",
    "             'Florida': 170312, \n",
    "             'Illinois': 149995}\n",
    "\n",
    "\n",
    "states = pd.DataFrame({'pop' : population_dict, 'area' : area_dict})\n",
    "print(states)"
   ]
  },
  {
   "cell_type": "code",
   "execution_count": null,
   "metadata": {
    "id": "kkeWSzVNhpd4",
    "outputId": "a4ddfab7-d0fd-449b-fe5b-97424811f3ed"
   },
   "outputs": [],
   "source": [
    "states.loc['Florida']"
   ]
  },
  {
   "cell_type": "markdown",
   "metadata": {
    "id": "UyncK4pjhpd4"
   },
   "source": [
    "**Q3: Create a new column in the DataFrame *states* that contains a boolean to indicate if population size is higher than 20000000**\n",
    "\n",
    "Expected outcome: DataFrame with extra column named \"popSize2000\" with True in indexes California and Texas and False otherwise"
   ]
  },
  {
   "cell_type": "code",
   "execution_count": null,
   "metadata": {
    "id": "rouadnQahpd4",
    "outputId": "b93b8b7a-64ae-4ade-d9b3-b82396b104e1"
   },
   "outputs": [],
   "source": [
    "states['popSize2000'] = np.where(states['pop'] > 20000000 , True, False)\n",
    "print(states)"
   ]
  },
  {
   "cell_type": "markdown",
   "metadata": {
    "id": "E5nqswWIhpd5"
   },
   "source": [
    "**Q4: Select the states with density (i.e., populaltion/area) higher than 100**\n",
    "\n",
    "Expected outcome: DataFrame with two rows (New York and Florida) and three columns (pop, area, popSize2000)"
   ]
  },
  {
   "cell_type": "code",
   "execution_count": null,
   "metadata": {
    "id": "TtVk8Ug4hpd5",
    "outputId": "cfe2ca95-2a9b-495f-fcbd-b2d06d4d1fce"
   },
   "outputs": [],
   "source": [
    "states['popSize2000'] = np.where(states['pop'] > 20000000 , True, False)\n",
    "#x gives a numpy array of the index values of the dataframe where pop/area >100\n",
    "x = np.where(states['pop']/states['area'] > 100)\n",
    "# print(states(x[0][0])\n",
    "for elem in np.nditer(x):\n",
    "    print(states.iloc[[elem]])\n",
    "    \n",
    "\n"
   ]
  },
  {
   "cell_type": "markdown",
   "metadata": {},
   "source": [
    "We can apply most aggregation functions (that we were used to apply with NumPy) to Pandas DataFrames. We can aggregate along either rows or columns. Below one example of calculating the mean population across states"
   ]
  },
  {
   "cell_type": "code",
   "execution_count": null,
   "metadata": {},
   "outputs": [],
   "source": [
    "states['pop'].mean()"
   ]
  },
  {
   "cell_type": "markdown",
   "metadata": {
    "id": "Fm8qv5GZhpd6"
   },
   "source": [
    "**Q5: Select the area of the largest state**\n",
    "\n",
    "Tip: check the Secion \"*Simple Aggregation in Pandas*\" of the Python Data Science Handbook\n",
    "\n",
    "The question asks for the area of the largest state. To print the name of the largest state the method [idxmax](\"https://pandas.pydata.org/pandas-docs/version/0.17.0/generated/pandas.DataFrame.idxmax.html\") can be handy... **Can you use idxmax to print the name of the largest state?**\n",
    "\n",
    "Expetected output: \n",
    "\n",
    "695662\n",
    "\n",
    "Texas"
   ]
  },
  {
   "cell_type": "code",
   "execution_count": null,
   "metadata": {
    "id": "gRFWXjrhhpd6",
    "outputId": "fe524beb-c5ef-4dce-f285-63536b7fa424"
   },
   "outputs": [],
   "source": [
    "y = states['area'].max()\n",
    "x = states['area'].idxmax()\n",
    "print(y)\n",
    "print(x)\n"
   ]
  },
  {
   "cell_type": "code",
   "execution_count": null,
   "metadata": {
    "id": "0DrQzvzLhpd6",
    "outputId": "da7508ac-03d9-4150-da1e-478a9fb387e8"
   },
   "outputs": [],
   "source": [
    "# applying universal functions: indices are aligned and perserved\n",
    "A = pd.DataFrame(np.ones((2, 2)), columns=list('AB'))\n",
    "B = pd.DataFrame(np.arange(9).reshape(3,3), columns=list('BAC'))\n",
    "A + B"
   ]
  },
  {
   "cell_type": "markdown",
   "metadata": {
    "id": "6RZKMlrUhpd6"
   },
   "source": [
    "Pandas provides useful methods to deal with missing items. Note that when adding DataFrame A and B there is a column and row of NaN added; that is because DataFrame A is missing row 2 column C, both present in DataFrame B. Below, see how convenient it is to replace NaN with a default value when applying the operation add — the NaN are substituted in DataFrame A, to guarantee index/column alignment between A and B before the operation add is applied:"
   ]
  },
  {
   "cell_type": "code",
   "execution_count": null,
   "metadata": {
    "id": "IzfpiYsKhpd6",
    "outputId": "8eb4e835-58d0-4697-fd74-df0b0dec733f"
   },
   "outputs": [],
   "source": [
    "dfC = A.add(B, fill_value=-100)\n",
    "dfC"
   ]
  },
  {
   "cell_type": "markdown",
   "metadata": {
    "id": "DB-g4W-9hpd7"
   },
   "source": [
    "**Q6: Can you calculate the sum of COLUMNS A, B and C of dataFrame dfC ?**\n",
    "\n",
    "Expected outcome: \n",
    "\n",
    "    A    -86.0\n",
    "    B    -89.0\n",
    "    C   -285.0\n",
    "    dtype: float64"
   ]
  },
  {
   "cell_type": "code",
   "execution_count": null,
   "metadata": {
    "id": "b7OioU8fhpd7",
    "outputId": "1a9e4f58-8ee7-4a76-806e-dbe6918d3204"
   },
   "outputs": [],
   "source": [
    "# dfC = A.add(B, fill_value=-100)\n",
    "# dfC.set_index('').sum()\n",
    "dfC.sum()"
   ]
  },
  {
   "cell_type": "markdown",
   "metadata": {
    "id": "C5gpLtmahpd7"
   },
   "source": [
    "**Q7: Can you calculate the mean of ROWS indexed by 0, 1 and 2 of DataFrame dfC ?**\n",
    "\n",
    "Expected outcome: \n",
    "\n",
    "    0   -31.666667\n",
    "    1   -28.666667\n",
    "    2   -93.000000\n",
    "    dtype: float64"
   ]
  },
  {
   "cell_type": "code",
   "execution_count": null,
   "metadata": {
    "id": "NATlApJPhpd7",
    "outputId": "efef644e-dd69-4aa9-fe9e-ce19fc49555f"
   },
   "outputs": [],
   "source": [
    "dfC.mean(axis=0)"
   ]
  },
  {
   "cell_type": "markdown",
   "metadata": {
    "id": "iKdqVA34hpd7"
   },
   "source": [
    "<h2><center> Working with a real dataset </center></h2>\n",
    "\n",
    "In the next examples we are going to read and use a structured dataset (*DataPanelWHR2021C2.xls*) which corresponds to Happiness World Report 2021. Make sure to have *DataPanelWHR2021C2.xls* in the same folder as this Jupyter Notebook. This dataset will be useful also in Assignment 1.\n",
    "\n",
    "You can find more info about the meaning of each column in the *DataPanelWHR2021C2.xls* dataset [here](https://happiness-report.s3.amazonaws.com/2021/Appendix1WHR2021C2.pdf), page 1-3.\n",
    "\n",
    "Importantly, *Life Ladder* corresponds to the happiness index.\n",
    "\n",
    "Some clarifications regarding the code below:\n",
    "- we are importing Excel data\n",
    "- index_col=[0,1] means that we will use as Index column 0 and column 1 of the excel file- Note that we are specifying 2 Indexes. This means we will have a DataFrame with a MultiIndex (examples provided below); if confused, plase read section \"Hierarchichal Indexing\" of the recommended [book](\"https://jakevdp.github.io/PythonDataScienceHandbook/03.05-hierarchical-indexing.html\")"
   ]
  },
  {
   "cell_type": "code",
   "execution_count": null,
   "metadata": {
    "id": "5GavQrw7hpd8",
    "outputId": "315bbf0f-942d-4848-b231-3f99cb89b31b"
   },
   "outputs": [],
   "source": [
    "import pandas as pd\n",
    "happinessdataframe = pd.read_excel('DataPanelWHR2021C2.xls', index_col=[0,1]) \n",
    "happinessdataframe"
   ]
  },
  {
   "cell_type": "markdown",
   "metadata": {
    "id": "ApQBjveehpd8"
   },
   "source": [
    "**Q9: Can you select data corresponding to The Netherlands, from 2005 to 2020?**\n",
    "\n",
    "Expected output: DataFrame with 14 rows (2005 - 2020) and 9 columns (all columns in the previous DataFrame)"
   ]
  },
  {
   "cell_type": "code",
   "execution_count": null,
   "metadata": {
    "id": "xLKzrCVhhpd8",
    "outputId": "d7ad4052-d2d5-4021-b38b-2da7f58d326f"
   },
   "outputs": [],
   "source": [
    "df = happinessdataframe\n",
    "df.loc['Netherlands']\n",
    "# .loc[2005:2020]"
   ]
  },
  {
   "cell_type": "code",
   "execution_count": null,
   "metadata": {
    "id": "mfQfM55Ahpd8",
    "outputId": "44d2bfe1-b98b-460b-cccf-283b6980fb9b"
   },
   "outputs": [],
   "source": [
    "df = happinessdataframe\n",
    "df.loc[('Netherlands', 2016)]"
   ]
  },
  {
   "cell_type": "code",
   "execution_count": null,
   "metadata": {
    "id": "qa5xRfT9hpd8",
    "outputId": "80996106-e17d-40f4-c17f-399bc06eb24e"
   },
   "outputs": [],
   "source": [
    "happinessdataframe.mean()"
   ]
  },
  {
   "cell_type": "code",
   "execution_count": null,
   "metadata": {
    "id": "KduPlCNHhpd9",
    "outputId": "61a5c1e2-b6ba-43db-f734-b94a3be469d5"
   },
   "outputs": [],
   "source": [
    "# Group each row by Country name; For each Country, present the mean of each column\n",
    "happinessdataframe.groupby('Country name').mean()"
   ]
  },
  {
   "cell_type": "markdown",
   "metadata": {
    "id": "-Dvu4S-Fhpd9"
   },
   "source": [
    "**Q10: Can you grop each row by Year and, for each year, present the mean of each column?**\n",
    "\n",
    "Expected output: same as above but grouped by year"
   ]
  },
  {
   "cell_type": "code",
   "execution_count": null,
   "metadata": {
    "id": "viTzkR5nhpd9",
    "outputId": "0503fbc6-abaa-4f29-f0e1-38aaa37c2436"
   },
   "outputs": [],
   "source": [
    "happinessdataframe.groupby('year').mean()"
   ]
  },
  {
   "cell_type": "code",
   "execution_count": null,
   "metadata": {
    "id": "LVPi5kuuhpd9",
    "outputId": "b64b783e-1eec-4064-8806-e07721122edb"
   },
   "outputs": [],
   "source": [
    "# Group each row by Country name; For each different country name, present the maximum of each column\n",
    "happinessdataframe.groupby('Country name').aggregate(np.max)"
   ]
  },
  {
   "cell_type": "code",
   "execution_count": null,
   "metadata": {
    "id": "rBcqeMXChpd9",
    "outputId": "28c9e1b6-20c0-4c63-ba85-d16fe7762ba0"
   },
   "outputs": [],
   "source": [
    "# Group each row by Country; For each different country name, present max, mean and min of column Life Ladder\n",
    "happinessdataframe.groupby('Country name')['Life Ladder'].aggregate(['max', 'mean', 'min'])"
   ]
  },
  {
   "cell_type": "markdown",
   "metadata": {
    "id": "hOO3MvDghpd-"
   },
   "source": [
    "**Q11: Can you group data by year and, for each year, present the mean and variance for the 'Healthy life expectancy at birth'?**\n",
    "\n",
    "Expected outcome: DataFrame with 16 rows (2005 - 2020) and 2 columns (mean, var)"
   ]
  },
  {
   "cell_type": "code",
   "execution_count": null,
   "metadata": {
    "id": "Zf8aqtlyhpd-",
    "outputId": "1e763616-881b-409e-ebb8-a0ea3ee72591"
   },
   "outputs": [],
   "source": [
    "happinessdataframe.groupby('year')['Healthy life expectancy at birth'].aggregate(['mean', 'var'])"
   ]
  },
  {
   "cell_type": "markdown",
   "metadata": {},
   "source": [
    "idxmax() can be applied to a DataFrame to obtain the maximum for each group; in the example below, we select the Index (Country, year) where the maximum 'Healthy life expectancy at birth' is observed"
   ]
  },
  {
   "cell_type": "code",
   "execution_count": null,
   "metadata": {
    "id": "JxQZhRNhhpd-",
    "outputId": "4b30943a-34a8-4d8a-8f88-4405c8065dd7"
   },
   "outputs": [],
   "source": [
    "happinessdataframe['Healthy life expectancy at birth'][0:-1].idxmax()"
   ]
  },
  {
   "cell_type": "markdown",
   "metadata": {
    "id": "GhaGIN5Ahpd-"
   },
   "source": [
    "**Q12: Which was the happiest country in 2020? (using idmax and 1 line of code)**\n",
    "\n",
    "Tip: [:,2020] can be used to select data for all countries in 2020\n",
    "\n",
    "Expected outcome: 'Finland'"
   ]
  },
  {
   "cell_type": "code",
   "execution_count": null,
   "metadata": {
    "id": "XzT71ikWhpd-",
    "outputId": "d514b0a0-b67a-461a-f467-e832f9bfeda3"
   },
   "outputs": [],
   "source": [
    "happinessdataframe['Life Ladder'][:,2020].idxmax()"
   ]
  },
  {
   "cell_type": "markdown",
   "metadata": {
    "id": "FiJA0fMDhpd_"
   },
   "source": [
    "**Q13: What was the Healthy life expectancy at birth in 2018, by country?** \n",
    "\n",
    "Expected outcome: \n",
    "\n",
    "    Country name\n",
    "    Afghanistan    52.599998\n",
    "    Albania        68.699997\n",
    "    Algeria        65.900002\n",
    "    Argentina      68.800003\n",
    "    Armenia        66.900002\n",
    "                 ...    \n",
    "    Venezuela      66.500000\n",
    "    Vietnam        67.900002\n",
    "    Yemen          56.700001\n",
    "    Zambia         55.299999\n",
    "    Zimbabwe       55.599998\n",
    "    Name: Healthy life expectancy at birth, Length: 142, dtype: float64"
   ]
  },
  {
   "cell_type": "code",
   "execution_count": null,
   "metadata": {
    "id": "XLj6TLK3hpd_",
    "outputId": "b7994d25-4e49-41b1-ac12-a937bdf48697"
   },
   "outputs": [],
   "source": [
    "# %%time\n",
    "# happinessdataframe.loc(axis=0)[:,2018][\"Healthy life expectancy at birth\"]\n",
    "happinessdataframe[\"Healthy life expectancy at birth\"][:,2018]\n",
    "# groupby(['F_Type'])['to_date'].idxmax()]"
   ]
  },
  {
   "cell_type": "markdown",
   "metadata": {
    "id": "WmLgDEXYhpd_"
   },
   "source": [
    "**Q14: What was the average GDP of the Netherlands from 2013 to 2019 (inclusive)?** \n",
    "\n",
    "Expected output: 10.90265941619873"
   ]
  },
  {
   "cell_type": "code",
   "execution_count": null,
   "metadata": {
    "id": "DpgewVn-hpd_",
    "outputId": "9a0a08ce-1b61-4efd-ca00-85ec78cbaad1"
   },
   "outputs": [],
   "source": [
    "happinessdataframe.loc['Netherlands'].loc[2013:2020]['Log GDP per capita'].mean()"
   ]
  },
  {
   "cell_type": "markdown",
   "metadata": {
    "id": "4_bjVCIOhpeA"
   },
   "source": [
    "<h2><center> Matplotlib </center></h2>\n",
    "\n",
    "Matplotlib is the package for visualization in Python. We will now use the previous dataset and produce some visualizations. Just as we use the <code>np</code> shorthand for NumPy and the <code>pd</code> shorthand for Pandas, we will use mpl and <code>plt</code> as standard shorthands for Matplotlib imports.\n",
    "\n",
    "A potentially confusing feature of Matplotlib is its dual interfaces: a MATLAB-style state-based interface, and a more powerful object-oriented interface.\n",
    "\n",
    "In our Labs we will mainly use the object-oriented interface as it provides greater flexibility. In practice, we will always call methods over an object Axes.\n",
    "\n",
    "We will first see some plot types and then plot quantities of interest related with the Happiness Report 2021 dataset."
   ]
  },
  {
   "cell_type": "code",
   "execution_count": null,
   "metadata": {
    "id": "CHwQjxkphpeA",
    "outputId": "4a90f3f2-fefc-4dab-da1d-28e6ca58dd87"
   },
   "outputs": [],
   "source": [
    "import matplotlib.pyplot as plt\n",
    "\n",
    "# First create a grid of plots\n",
    "# ax will be an array of two Axes objects\n",
    "fig, ax = plt.subplots(2)\n",
    "\n",
    "x = np.arange(0,10,0.1)\n",
    "\n",
    "# Call plot() method on the appropriate object\n",
    "ax[0].plot(x, np.sin(x))\n",
    "ax[1].plot(x, np.cos(x));"
   ]
  },
  {
   "cell_type": "code",
   "execution_count": null,
   "metadata": {
    "id": "g0jzCwkuhpeA",
    "outputId": "62f4e782-014f-4184-ce56-4152659ddd49"
   },
   "outputs": [],
   "source": [
    "fig, ax = plt.subplots()\n",
    "\n",
    "x = np.linspace(0, 10, 30)\n",
    "y = np.sin(x)\n",
    "\n",
    "ax.plot(x, y, 'o', color='black');"
   ]
  },
  {
   "cell_type": "code",
   "execution_count": null,
   "metadata": {
    "id": "7_uq9MyrhpeB",
    "outputId": "003c6543-ce3a-4802-a9c2-79a7e43122e8"
   },
   "outputs": [],
   "source": [
    "fig, ax = plt.subplots()\n",
    "\n",
    "x = np.linspace(0, 10, 50)\n",
    "dy = 0.8\n",
    "y = np.sin(x) + dy * np.random.randn(50)\n",
    "\n",
    "ax.errorbar(x, y, yerr=dy, fmt='o', color='black',\n",
    "             ecolor='lightgray', elinewidth=3, capsize=0)\n",
    "\n",
    "plt.show()"
   ]
  },
  {
   "cell_type": "code",
   "execution_count": null,
   "metadata": {
    "id": "TQ1eXVwjhpeB",
    "outputId": "1b47df64-173e-45f7-f3d9-1ad11b49db06"
   },
   "outputs": [],
   "source": [
    "ax = plt.subplot()\n",
    "\n",
    "data = np.random.randn(1000)\n",
    "\n",
    "ax.hist(data)\n",
    "\n",
    "plt.show()"
   ]
  },
  {
   "cell_type": "code",
   "execution_count": null,
   "metadata": {
    "id": "PeeJ9LOShpeB",
    "outputId": "30b11e4b-239f-4cd2-89e5-a4f2ed7c5408"
   },
   "outputs": [],
   "source": [
    "ax = plt.subplot()\n",
    "\n",
    "mean = [0, 0]\n",
    "cov = [[1, 1], [1, 2]]\n",
    "x, y = np.random.multivariate_normal(mean, cov, 10000).T\n",
    "\n",
    "plot2d = ax.hist2d(x, y, bins=30, cmap='Blues')\n",
    "\n",
    "plt.show()"
   ]
  },
  {
   "cell_type": "markdown",
   "metadata": {
    "id": "o5AcidpqhpeB"
   },
   "source": [
    "<h2><center> Working with a real dataset </center></h2>"
   ]
  },
  {
   "cell_type": "markdown",
   "metadata": {},
   "source": [
    "How did the world mean GDP evolved from 2006 to 2020? You will see one answer to this question using matplotlib explicitely, and another using the interface to plot provided by Pandas:"
   ]
  },
  {
   "cell_type": "code",
   "execution_count": null,
   "metadata": {
    "id": "B0OH4CUGhpeB",
    "outputId": "eda09652-ab3f-4d57-8a08-5869a5c12a07"
   },
   "outputs": [],
   "source": [
    "# using matplotlib explicitly\n",
    "x = happinessdataframe.groupby('year').mean()['Log GDP per capita']\n",
    "fig, ax = plt.subplots()\n",
    "ax.plot(x)\n",
    "plt.show()"
   ]
  },
  {
   "cell_type": "code",
   "execution_count": null,
   "metadata": {
    "id": "N6x11eSQhpeC",
    "outputId": "6c257b14-b498-4d1f-eabd-fece28e7b070"
   },
   "outputs": [],
   "source": [
    "# using .plot() applied to DataFrame\n",
    "# this is a shortcut for the code in the previous cell\n",
    "x = happinessdataframe.groupby('year').mean()['Log GDP per capita']\n",
    "x.plot()\n",
    "plt.show()"
   ]
  },
  {
   "cell_type": "markdown",
   "metadata": {},
   "source": [
    "How do countries distribute in terms of GDP and corruptioon, in 2020?"
   ]
  },
  {
   "cell_type": "code",
   "execution_count": null,
   "metadata": {
    "id": "jXPXObvjhpeC",
    "outputId": "729197e8-4f57-4488-eb53-3ed529c5d1fc"
   },
   "outputs": [],
   "source": [
    "x = happinessdataframe.loc(axis=0)[:,2018][[\"Log GDP per capita\",\"Perceptions of corruption\"]]\n",
    "x.plot.scatter(x=\"Log GDP per capita\", y=\"Perceptions of corruption\",c='black')\n",
    "plt.show()"
   ]
  },
  {
   "cell_type": "markdown",
   "metadata": {},
   "source": [
    "What was the mean happiness over the years? How much does it vary across countries, per year?"
   ]
  },
  {
   "cell_type": "code",
   "execution_count": null,
   "metadata": {
    "id": "TLWk9HmNhpeC",
    "outputId": "8af2b53d-94ee-4a98-ecc0-6e5aed4b067b"
   },
   "outputs": [],
   "source": [
    "x = happinessdataframe.groupby('year').aggregate(np.mean)[\"Life Ladder\"]\n",
    "dy = happinessdataframe.groupby('year').aggregate(np.std)[\"Life Ladder\"]\n",
    "\n",
    "fig, ax = plt.subplots()\n",
    "\n",
    "ax.errorbar(x.index, x.values, yerr=dy, fmt='o', color='black',\n",
    "             ecolor='lightgray', elinewidth=3, capsize=0)\n",
    "\n",
    "plt.show()"
   ]
  },
  {
   "cell_type": "markdown",
   "metadata": {},
   "source": [
    "How do countries distributed in terms of Life expectancy in 2014?"
   ]
  },
  {
   "cell_type": "code",
   "execution_count": null,
   "metadata": {
    "id": "8gTyv_hkhpeC",
    "outputId": "d5393bc8-bd6b-4e1a-935b-3b7e93475ee1"
   },
   "outputs": [],
   "source": [
    "ax = plt.subplot()\n",
    "\n",
    "data = happinessdataframe.loc(axis=0)[:,2014][\"Healthy life expectancy at birth\"]\n",
    "\n",
    "ax.hist(data)\n",
    "\n",
    "plt.show()"
   ]
  },
  {
   "cell_type": "markdown",
   "metadata": {
    "id": "lT8YjYcehpeD"
   },
   "source": [
    "**Q15: What was the relationship between GDP and Healthy life expectancy at birth in 2014? — produce a Scatter plot to visualize this relationship**"
   ]
  },
  {
   "cell_type": "code",
   "execution_count": null,
   "metadata": {
    "id": "4xt_w9y2hpeD",
    "outputId": "a41d00b4-1483-43a0-e5db-f19b35fb07e7"
   },
   "outputs": [],
   "source": [
    "x = happinessdataframe.loc(axis=0)[:,2014][[\"Log GDP per capita\",\"Healthy life expectancy at birth\"]]\n",
    "x.plot.scatter(x=\"Log GDP per capita\", y=\"Healthy life expectancy at birth\",c='black')\n",
    "plt.show()"
   ]
  },
  {
   "cell_type": "markdown",
   "metadata": {
    "id": "5TPcE9pGhpeD"
   },
   "source": [
    "**Q16: How does the distribution of life expectancy in the top 50% happiest countries compare with the bottom 50%, considering all years?**\n",
    "\n",
    "Suggestion: show this relationship in a plot with two histograms, one for the top 50% happiest countries and another for the bottom 50%.\n",
    "\n",
    "Tips: \n",
    "- Check Figure 4-37, and respective code, of the book Python Data Science Handbook\n",
    "- Each histogram corresponds to the countries with Life Ladder highest than the median : <code>happinessdataframe[\"Life Ladder\"].median()</code>"
   ]
  },
  {
   "cell_type": "code",
   "execution_count": null,
   "metadata": {
    "id": "7GKGNqPOhpeD",
    "outputId": "5b27efe8-e25d-4a88-f127-46a8e99bf17d"
   },
   "outputs": [],
   "source": [
    "import numpy \n",
    "import matplotlib.pyplot as plt\n",
    "plt.style.use('seaborn-deep')\n",
    "\n",
    "m_val = happinessdataframe[\"Life Ladder\"].median()\n",
    "\n",
    "#why?\n",
    "happy = happinessdataframe['Healthy life expectancy at birth'][happinessdataframe['Life Ladder'] >= m_val]\n",
    "sad = happinessdataframe['Healthy life expectancy at birth'][happinessdataframe['Life Ladder'] < m_val]\n",
    "\n",
    "kwargs = dict(histtype='stepfilled', alpha=0.5, bins=30)\n",
    "\n",
    "plt.hist(happy, **kwargs)\n",
    "plt.hist(sad, **kwargs);\n",
    "labels= [\"happy\",\"sad\"]\n",
    "plt.legend(labels)\n",
    "# plt.legend(happy, sad)\n",
    "plt.show()\n"
   ]
  },
  {
   "cell_type": "code",
   "execution_count": null,
   "metadata": {},
   "outputs": [],
   "source": []
  }
 ],
 "metadata": {
  "colab": {
   "name": "Lab2.ipynb",
   "provenance": []
  },
  "kernelspec": {
   "display_name": "Python 3 (ipykernel)",
   "language": "python",
   "name": "python3"
  },
  "language_info": {
   "codemirror_mode": {
    "name": "ipython",
    "version": 3
   },
   "file_extension": ".py",
   "mimetype": "text/x-python",
   "name": "python",
   "nbconvert_exporter": "python",
   "pygments_lexer": "ipython3",
   "version": "3.7.11"
  }
 },
 "nbformat": 4,
 "nbformat_minor": 1
}
